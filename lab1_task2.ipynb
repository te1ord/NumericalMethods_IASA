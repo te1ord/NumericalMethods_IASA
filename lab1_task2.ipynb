{
 "cells": [
  {
   "cell_type": "code",
   "execution_count": 1,
   "id": "8e06cf0e",
   "metadata": {},
   "outputs": [],
   "source": [
    "from sympy import *"
   ]
  },
  {
   "cell_type": "code",
   "execution_count": 2,
   "id": "123ec8e9",
   "metadata": {},
   "outputs": [
    {
     "data": {
      "text/latex": [
       "$\\displaystyle - \\operatorname{acos}{\\left(a + c \\right)} + \\frac{a + b}{\\sqrt{a - b}}$"
      ],
      "text/plain": [
       "-acos(a + c) + (a + b)/sqrt(a - b)"
      ]
     },
     "execution_count": 2,
     "metadata": {},
     "output_type": "execute_result"
    }
   ],
   "source": [
    "a, b, c = symbols('a b c')\n",
    "F = ((a + b) / (sqrt(a - b))) - acos(a + c)\n",
    "F"
   ]
  },
  {
   "cell_type": "code",
   "execution_count": 3,
   "id": "bf8e2c29",
   "metadata": {},
   "outputs": [
    {
     "data": {
      "text/latex": [
       "$\\displaystyle \\frac{1}{\\sqrt{a - b}} - \\frac{a + b}{2 \\left(a - b\\right)^{\\frac{3}{2}}} + \\frac{1}{\\sqrt{1 - \\left(a + c\\right)^{2}}}$"
      ],
      "text/plain": [
       "1/sqrt(a - b) - (a + b)/(2*(a - b)**(3/2)) + 1/sqrt(1 - (a + c)**2)"
      ]
     },
     "execution_count": 3,
     "metadata": {},
     "output_type": "execute_result"
    }
   ],
   "source": [
    "F1 = F.diff(a)\n",
    "F1"
   ]
  },
  {
   "cell_type": "code",
   "execution_count": 4,
   "id": "89b8d3ff",
   "metadata": {},
   "outputs": [
    {
     "data": {
      "text/latex": [
       "$\\displaystyle \\frac{1}{\\sqrt{a - b}} + \\frac{a + b}{2 \\left(a - b\\right)^{\\frac{3}{2}}}$"
      ],
      "text/plain": [
       "1/sqrt(a - b) + (a + b)/(2*(a - b)**(3/2))"
      ]
     },
     "execution_count": 4,
     "metadata": {},
     "output_type": "execute_result"
    }
   ],
   "source": [
    "F2 = F.diff(b)\n",
    "F2"
   ]
  },
  {
   "cell_type": "code",
   "execution_count": 5,
   "id": "64736d22",
   "metadata": {},
   "outputs": [
    {
     "data": {
      "text/latex": [
       "$\\displaystyle \\frac{1}{\\sqrt{1 - \\left(a + c\\right)^{2}}}$"
      ],
      "text/plain": [
       "1/sqrt(1 - (a + c)**2)"
      ]
     },
     "execution_count": 5,
     "metadata": {},
     "output_type": "execute_result"
    }
   ],
   "source": [
    "F3 = F.diff(c)\n",
    "F3"
   ]
  },
  {
   "cell_type": "code",
   "execution_count": 6,
   "id": "923f8ef6",
   "metadata": {},
   "outputs": [],
   "source": [
    "x, y, z = 0.0156, 0.0182, 3.0148\n",
    "delta1, delta2, delta3 = 10 ** -4, 10 ** -4, 10 ** -4  "
   ]
  },
  {
   "cell_type": "code",
   "execution_count": 7,
   "id": "8cae92c5",
   "metadata": {},
   "outputs": [],
   "source": [
    "F = F.subs([(a, x), (b, y), (c, z)])\n",
    "F1 = F1.subs([(a, x), (b, y), (c, z)])\n",
    "F2 = F2.subs([(a, x), (b, y), (c, z)])\n",
    "F3 = F3.subs([(a, x), (b, y), (c, z)])"
   ]
  },
  {
   "cell_type": "code",
   "execution_count": 8,
   "id": "46be6c64",
   "metadata": {},
   "outputs": [
    {
     "data": {
      "text/latex": [
       "$\\displaystyle 0.0255650117237984$"
      ],
      "text/plain": [
       "0.0255650117237984"
      ]
     },
     "execution_count": 8,
     "metadata": {},
     "output_type": "execute_result"
    }
   ],
   "source": [
    "deltaF = abs(F1) * delta1 + abs(F2) * delta2 + abs(F3) * delta3\n",
    "deltaF"
   ]
  },
  {
   "cell_type": "code",
   "execution_count": 10,
   "id": "b3ba02f7",
   "metadata": {},
   "outputs": [
    {
     "data": {
      "text/latex": [
       "$\\displaystyle - 2.43630695702356 i$"
      ],
      "text/plain": [
       "-2.43630695702356*I"
      ]
     },
     "execution_count": 10,
     "metadata": {},
     "output_type": "execute_result"
    }
   ],
   "source": [
    "F"
   ]
  },
  {
   "cell_type": "code",
   "execution_count": 11,
   "id": "893b2a80",
   "metadata": {},
   "outputs": [
    {
     "data": {
      "text/latex": [
       "$\\displaystyle -0.0255650117237984 - 2.43630695702356 i$"
      ],
      "text/plain": [
       "-0.0255650117237984 - 2.43630695702356*I"
      ]
     },
     "execution_count": 11,
     "metadata": {},
     "output_type": "execute_result"
    }
   ],
   "source": [
    "F_lower = F - deltaF\n",
    "F_lower"
   ]
  },
  {
   "cell_type": "code",
   "execution_count": 12,
   "id": "ac66c047",
   "metadata": {},
   "outputs": [
    {
     "data": {
      "text/latex": [
       "$\\displaystyle 0.0255650117237984 - 2.43630695702356 i$"
      ],
      "text/plain": [
       "0.0255650117237984 - 2.43630695702356*I"
      ]
     },
     "execution_count": 12,
     "metadata": {},
     "output_type": "execute_result"
    }
   ],
   "source": [
    "F_upper = F + deltaF\n",
    "F_upper"
   ]
  }
 ],
 "metadata": {
  "kernelspec": {
   "display_name": "Python 3 (ipykernel)",
   "language": "python",
   "name": "python3"
  },
  "language_info": {
   "codemirror_mode": {
    "name": "ipython",
    "version": 3
   },
   "file_extension": ".py",
   "mimetype": "text/x-python",
   "name": "python",
   "nbconvert_exporter": "python",
   "pygments_lexer": "ipython3",
   "version": "3.10.9"
  }
 },
 "nbformat": 4,
 "nbformat_minor": 5
}
