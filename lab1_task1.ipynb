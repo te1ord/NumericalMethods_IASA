{
 "cells": [
  {
   "cell_type": "code",
   "execution_count": 1,
   "id": "82cdadaa",
   "metadata": {},
   "outputs": [],
   "source": [
    "from sympy import *"
   ]
  },
  {
   "cell_type": "code",
   "execution_count": 2,
   "id": "e065e0d9",
   "metadata": {},
   "outputs": [
    {
     "data": {
      "text/latex": [
       "$\\displaystyle \\frac{a \\left(a + b\\right) \\log{\\left(a + c \\right)}}{\\sqrt[3]{a - b}}$"
      ],
      "text/plain": [
       "a*(a + b)*log(a + c)/(a - b)**(1/3)"
      ]
     },
     "execution_count": 2,
     "metadata": {},
     "output_type": "execute_result"
    }
   ],
   "source": [
    "a, b, c = symbols('a b c')\n",
    "F = ((a + b) / root((a - b), 3)) * a * log(a + c)\n",
    "F"
   ]
  },
  {
   "cell_type": "code",
   "execution_count": 3,
   "id": "9c18f73c",
   "metadata": {},
   "outputs": [
    {
     "data": {
      "text/latex": [
       "$\\displaystyle \\frac{a \\left(a + b\\right)}{\\sqrt[3]{a - b} \\left(a + c\\right)} + \\frac{a \\log{\\left(a + c \\right)}}{\\sqrt[3]{a - b}} - \\frac{a \\left(a + b\\right) \\log{\\left(a + c \\right)}}{3 \\left(a - b\\right)^{\\frac{4}{3}}} + \\frac{\\left(a + b\\right) \\log{\\left(a + c \\right)}}{\\sqrt[3]{a - b}}$"
      ],
      "text/plain": [
       "a*(a + b)/((a - b)**(1/3)*(a + c)) + a*log(a + c)/(a - b)**(1/3) - a*(a + b)*log(a + c)/(3*(a - b)**(4/3)) + (a + b)*log(a + c)/(a - b)**(1/3)"
      ]
     },
     "execution_count": 3,
     "metadata": {},
     "output_type": "execute_result"
    }
   ],
   "source": [
    "F1 = F.diff(a)\n",
    "F1"
   ]
  },
  {
   "cell_type": "code",
   "execution_count": 4,
   "id": "fa028852",
   "metadata": {},
   "outputs": [
    {
     "data": {
      "text/latex": [
       "$\\displaystyle \\frac{a \\log{\\left(a + c \\right)}}{\\sqrt[3]{a - b}} + \\frac{a \\left(a + b\\right) \\log{\\left(a + c \\right)}}{3 \\left(a - b\\right)^{\\frac{4}{3}}}$"
      ],
      "text/plain": [
       "a*log(a + c)/(a - b)**(1/3) + a*(a + b)*log(a + c)/(3*(a - b)**(4/3))"
      ]
     },
     "execution_count": 4,
     "metadata": {},
     "output_type": "execute_result"
    }
   ],
   "source": [
    "F2 = F.diff(b)\n",
    "F2"
   ]
  },
  {
   "cell_type": "code",
   "execution_count": 5,
   "id": "35fa1d01",
   "metadata": {},
   "outputs": [
    {
     "data": {
      "text/latex": [
       "$\\displaystyle \\frac{a \\left(a + b\\right)}{\\sqrt[3]{a - b} \\left(a + c\\right)}$"
      ],
      "text/plain": [
       "a*(a + b)/((a - b)**(1/3)*(a + c))"
      ]
     },
     "execution_count": 5,
     "metadata": {},
     "output_type": "execute_result"
    }
   ],
   "source": [
    "F3 = F.diff(c)\n",
    "F3"
   ]
  },
  {
   "cell_type": "code",
   "execution_count": 6,
   "id": "82ba0304",
   "metadata": {},
   "outputs": [],
   "source": [
    "x, y, z = 0.1245, 0.1209, 3.6744\n",
    "delta1, delta2, delta3 = 0.0005, 0.0003, 0.015"
   ]
  },
  {
   "cell_type": "code",
   "execution_count": 7,
   "id": "21339a16",
   "metadata": {},
   "outputs": [],
   "source": [
    "F = F.subs([(a, x), (b, y), (c, z)])\n",
    "F1 = F1.subs([(a, x), (b, y), (c, z)])\n",
    "F2 = F2.subs([(a, x), (b, y), (c, z)])\n",
    "F3 = F3.subs([(a, x), (b, y), (c, z)])"
   ]
  },
  {
   "cell_type": "code",
   "execution_count": 8,
   "id": "1dbb5fa8",
   "metadata": {},
   "outputs": [
    {
     "data": {
      "text/latex": [
       "$\\displaystyle 0.0191844283406857$"
      ],
      "text/plain": [
       "0.0191844283406857"
      ]
     },
     "execution_count": 8,
     "metadata": {},
     "output_type": "execute_result"
    }
   ],
   "source": [
    "deltaF = abs(F1) * delta1 + abs(F2) * delta2 + abs(F3) * delta3\n",
    "deltaF"
   ]
  },
  {
   "cell_type": "code",
   "execution_count": 9,
   "id": "34e400d5",
   "metadata": {},
   "outputs": [
    {
     "data": {
      "text/latex": [
       "$\\displaystyle 0.266070767239555$"
      ],
      "text/plain": [
       "0.266070767239555"
      ]
     },
     "execution_count": 9,
     "metadata": {},
     "output_type": "execute_result"
    }
   ],
   "source": [
    "F"
   ]
  },
  {
   "cell_type": "code",
   "execution_count": 10,
   "id": "0b9723c7",
   "metadata": {},
   "outputs": [
    {
     "data": {
      "text/latex": [
       "$\\displaystyle 0.246886338898869$"
      ],
      "text/plain": [
       "0.246886338898869"
      ]
     },
     "execution_count": 10,
     "metadata": {},
     "output_type": "execute_result"
    }
   ],
   "source": [
    "F_lower = F - deltaF\n",
    "F_lower"
   ]
  },
  {
   "cell_type": "code",
   "execution_count": 11,
   "id": "eb8e9db1",
   "metadata": {},
   "outputs": [
    {
     "data": {
      "text/latex": [
       "$\\displaystyle 0.28525519558024$"
      ],
      "text/plain": [
       "0.285255195580240"
      ]
     },
     "execution_count": 11,
     "metadata": {},
     "output_type": "execute_result"
    }
   ],
   "source": [
    "F_upper = F + deltaF\n",
    "F_upper"
   ]
  }
 ],
 "metadata": {
  "kernelspec": {
   "display_name": "Python 3 (ipykernel)",
   "language": "python",
   "name": "python3"
  },
  "language_info": {
   "codemirror_mode": {
    "name": "ipython",
    "version": 3
   },
   "file_extension": ".py",
   "mimetype": "text/x-python",
   "name": "python",
   "nbconvert_exporter": "python",
   "pygments_lexer": "ipython3",
   "version": "3.10.9"
  }
 },
 "nbformat": 4,
 "nbformat_minor": 5
}
